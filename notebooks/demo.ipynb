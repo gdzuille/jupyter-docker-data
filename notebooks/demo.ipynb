{
 "cells": [
  {
   "cell_type": "markdown",
   "id": "adf1d6ca-95e6-4b29-ac13-f78c77899a62",
   "metadata": {},
   "source": [
    "# This is a test notebook\n",
    "Function for creating a basic SparkSession"
   ]
  },
  {
   "cell_type": "code",
   "execution_count": 1,
   "id": "ce5065c1-3d1c-4e2a-b37b-155cd59dae1f",
   "metadata": {},
   "outputs": [],
   "source": [
    "from pyspark.sql import SparkSession\n",
    "\n",
    "def create_sparksession():\n",
    "    \"\"\"\n",
    "    Initialize Spark Session\n",
    "    \"\"\"\n",
    "    return SparkSession.builder \\\n",
    "        .appName('notebook') \\\n",
    "        .master('spark://spark-master:7077') \\\n",
    "        .getOrCreate()"
   ]
  },
  {
   "cell_type": "code",
   "execution_count": 2,
   "id": "071b68cf-603a-4dd0-b8ab-dfe9a222ed97",
   "metadata": {},
   "outputs": [
    {
     "name": "stderr",
     "output_type": "stream",
     "text": [
      "Setting default log level to \"WARN\".\n",
      "To adjust logging level use sc.setLogLevel(newLevel). For SparkR, use setLogLevel(newLevel).\n",
      "24/02/12 15:55:56 WARN NativeCodeLoader: Unable to load native-hadoop library for your platform... using builtin-java classes where applicable\n"
     ]
    }
   ],
   "source": [
    "spark = create_sparksession()"
   ]
  },
  {
   "cell_type": "code",
   "execution_count": 3,
   "id": "c9a52554-53d7-4e89-9253-8812693de252",
   "metadata": {},
   "outputs": [],
   "source": [
    "columns = [\"country_code\",\"users_count\"]\n",
    "data = [(\"SPA\", \"2000\"), (\"USA\", \"100000\"), (\"GER\", \"3000\")]"
   ]
  },
  {
   "cell_type": "code",
   "execution_count": 7,
   "id": "bde055f4-cd89-4c92-b596-ff6d16d496cd",
   "metadata": {},
   "outputs": [
    {
     "name": "stdout",
     "output_type": "stream",
     "text": [
      "root\n",
      " |-- country_code: string (nullable = true)\n",
      " |-- users_count: string (nullable = true)\n",
      "\n"
     ]
    }
   ],
   "source": [
    "rdd = spark.sparkContext.parallelize(data)\n",
    "\n",
    "df = rdd.toDF(columns)\n",
    "df.printSchema()"
   ]
  },
  {
   "cell_type": "code",
   "execution_count": 8,
   "id": "b5dc3777-d928-401c-87c1-0ed290ffdd1c",
   "metadata": {},
   "outputs": [
    {
     "name": "stdout",
     "output_type": "stream",
     "text": [
      "+------------+-----------+\n",
      "|country_code|users_count|\n",
      "+------------+-----------+\n",
      "|         SPA|       2000|\n",
      "|         USA|     100000|\n",
      "|         GER|       3000|\n",
      "+------------+-----------+\n",
      "\n"
     ]
    }
   ],
   "source": [
    "df.show()"
   ]
  }
 ],
 "metadata": {
  "kernelspec": {
   "display_name": "Python 3 (ipykernel)",
   "language": "python",
   "name": "python3"
  },
  "language_info": {
   "codemirror_mode": {
    "name": "ipython",
    "version": 3
   },
   "file_extension": ".py",
   "mimetype": "text/x-python",
   "name": "python",
   "nbconvert_exporter": "python",
   "pygments_lexer": "ipython3",
   "version": "3.11.2"
  }
 },
 "nbformat": 4,
 "nbformat_minor": 5
}
